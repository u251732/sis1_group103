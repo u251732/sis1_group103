{
 "cells": [
  {
   "cell_type": "markdown",
   "metadata": {
    "id": "EuCJXTMr_3eA"
   },
   "source": [
    "# **Intro to SiS1 Labs**\n",
    "\n",
    "The goal of the labs of Signal and Systems 1 is to gain knowledge on the course’s topics by solving a specific signal processing problem. By the end of the course, you should be able to imitate, by synthesis, the sound produced by a plucked string instrument using the knowledge acquired in the theory and seminar classes. This will be a cumulative process, in each lab new techniques will be applied in order to improve the synthesis. First let's show what we will achieve by the end of the course. For each lab we need to import some auxiliary functions needed to load the audio files and listen to them:\n"
   ]
  },
  {
   "cell_type": "code",
   "execution_count": null,
   "metadata": {
    "id": "ypTWnizY5Ui_"
   },
   "outputs": [],
   "source": [
    "from util import load_audio, save_audio, plot_signals\n",
    "from IPython.display import Audio"
   ]
  },
  {
   "cell_type": "markdown",
   "metadata": {
    "id": "3kyuMhzf5829"
   },
   "source": [
    "**Reference signal**\n",
    "\n",
    "Now let's load and listen to a reference signal like the one you will use:"
   ]
  },
  {
   "cell_type": "code",
   "execution_count": null,
   "metadata": {
    "colab": {
     "base_uri": "https://localhost:8080/",
     "height": 250
    },
    "executionInfo": {
     "elapsed": 418,
     "status": "error",
     "timestamp": 1696423237923,
     "user": {
      "displayName": "ANDREA SOFIA VALLEJO BUDZISZEWSKI",
      "userId": "02468494066114694594"
     },
     "user_tz": -120
    },
    "id": "IaEhbheD5_3g",
    "outputId": "61442be1-550d-46d1-9d2c-c0306615ca86"
   },
   "outputs": [],
   "source": [
    "reference, fs = load_audio('audio/reference.wav')\n",
    "Audio(reference, rate=fs)"
   ]
  },
  {
   "cell_type": "markdown",
   "metadata": {
    "id": "37nq4EIj6CVE"
   },
   "source": [
    "**Synthesis**\n",
    "\n",
    "Now we can load and listen to a synthesised signal like the one you will obtain and that tries to imitate the reference signal. This is an audio signal created from scratch only using the knowledge gained during the course."
   ]
  },
  {
   "cell_type": "code",
   "execution_count": null,
   "metadata": {
    "colab": {
     "base_uri": "https://localhost:8080/",
     "height": 75
    },
    "executionInfo": {
     "elapsed": 1309,
     "status": "ok",
     "timestamp": 1633618374262,
     "user": {
      "displayName": "Nazif Can Tamer",
      "photoUrl": "https://lh3.googleusercontent.com/a-/AOh14GiTM52Gnv7dDaQrVpXTeAaRuek-M7AQlYrKekdg=s64",
      "userId": "07707576080257448155"
     },
     "user_tz": -120
    },
    "id": "Kpyugi4h6Fx2",
    "outputId": "eb439335-4004-47b8-cb6b-871f6627ce0a"
   },
   "outputs": [],
   "source": [
    "synthesis, fs = load_audio('audio/synthesis.wav')\n",
    "Audio(synthesis, rate=fs)"
   ]
  },
  {
   "cell_type": "markdown",
   "metadata": {
    "id": "TleTywiG6TNv"
   },
   "source": [
    "---"
   ]
  },
  {
   "cell_type": "markdown",
   "metadata": {
    "id": "lOuLJ9tG5HmQ"
   },
   "source": [
    "## **Lab 1**\n",
    "In this lab you will choose your reference sound to be used for all the labs and start imitating it with a single sinusoid."
   ]
  },
  {
   "cell_type": "markdown",
   "metadata": {
    "id": "wedbHQgYD8Gd"
   },
   "source": [
    "## **Exercises**\n",
    "\n",
    "**1. Choose a reference sound**\n",
    "\n",
    "1.1. Find a recording of a single plucked string sound. Be creative, do not choose “guitar” by default, nor copy a sound from another group. You should use [Freesound](https://freesound.org/) to find the recordings (Freesound is a huge collaborative database of audio snippets released under Creative Commons licenses created and maintained by researchers of the Music Technology Group of the UPF). Try to find a sound with the best possible quality. The ideal sound format should be: uncompress (such as.wav, .aiff, but no .mp3), mono (one channel) and with a sampling rate of  44100Hz. The sound file should also contain a single note. You can start by downloading a sound from freesound and modify it with Audacity to the right format and content."
   ]
  },
  {
   "cell_type": "markdown",
   "metadata": {
    "id": "nQzeA7FHIq_4"
   },
   "source": [
    "[Put here the freesound link to the selected sound recording]"
   ]
  },
  {
   "cell_type": "markdown",
   "metadata": {},
   "source": []
  },
  {
   "cell_type": "code",
   "execution_count": null,
   "metadata": {},
   "outputs": [],
   "source": [
    "https://freesound.org/people/ukjoncollins/sounds/653820/"
   ]
  },
  {
   "cell_type": "markdown",
   "metadata": {
    "id": "CzY_zhNNI3jP"
   },
   "source": [
    "1.2. Create a github repository and upload your edited audio file there:\n",
    "\n",
    "1) Sing up to github using your UPF gmail account: https://github.com/\n",
    "\n",
    "2) Create a repository called **sis1_groupX** where X is your group number: https://docs.github.com/en/get-started/quickstart/create-a-repo\n",
    "\n",
    "3) Upload your edited audio file to the repository\n"
   ]
  },
  {
   "cell_type": "markdown",
   "metadata": {
    "id": "ZOToMiLUtlPn"
   },
   "source": [
    "1.3. Now you can clone your repository and access the audio file locally. Change the following code (user name and file name) to clone the repository and load the audio file."
   ]
  },
  {
   "cell_type": "code",
   "execution_count": null,
   "metadata": {
    "id": "ubEXBkaptkt8"
   },
   "outputs": [],
   "source": [
    "!git clone https://github.com/username/sis1_groupX.git\n",
    "filepath = \"./sis1_groupX/file_name.wav\"\n",
    "ref, fs = load_audio(filepath)"
   ]
  },
  {
   "cell_type": "markdown",
   "metadata": {
    "id": "bSUaYNjIKNvk"
   },
   "source": [
    "Note that `load_audio` function returns two variables: the audio signal (as a one dimensional array of floating point numbers), and the sampling rate (as a integer number). Now we can plot the audio signal:"
   ]
  },
  {
   "cell_type": "code",
   "execution_count": null,
   "metadata": {
    "id": "b8Rc6jowKd9m"
   },
   "outputs": [],
   "source": [
    "plot_signals(ref, fs)"
   ]
  },
  {
   "cell_type": "markdown",
   "metadata": {
    "id": "OpC2ektLLOEz"
   },
   "source": [
    "You can use the zoom in tool to see more details."
   ]
  },
  {
   "cell_type": "markdown",
   "metadata": {
    "id": "oRaDBnzlL3Eo"
   },
   "source": [
    "You can also use Audio widget to listen the audio signal:"
   ]
  },
  {
   "cell_type": "code",
   "execution_count": null,
   "metadata": {
    "id": "tASfGZQ8Lucl"
   },
   "outputs": [],
   "source": [
    "Audio(ref, rate=fs)"
   ]
  },
  {
   "cell_type": "markdown",
   "metadata": {
    "id": "L57v5vMrN9Ot"
   },
   "source": [
    "\n",
    "\n",
    "---\n",
    "\n"
   ]
  },
  {
   "cell_type": "markdown",
   "metadata": {
    "id": "E4qrE8MyNEJn"
   },
   "source": [
    "**2. Measure the signal period and fundamental frequency**\n",
    "\n",
    "2.1. Measure the period length, in seconds, and the fundamental frequency, in Hz, of the sound you choose. You can use Audacity to measure the period by zooming into a stable portion of the sound. Then compute its inverse to find the fundamental frequency. Find the closest note (note name) of the measured frequency (use google)."
   ]
  },
  {
   "cell_type": "markdown",
   "metadata": {
    "id": "ee6QZQuSN2VK"
   },
   "source": [
    "[Write here the note name and the fundamental frequency in hertz]"
   ]
  },
  {
   "cell_type": "markdown",
   "metadata": {
    "id": "rqa9yRtdOBL0"
   },
   "source": [
    "2.2. Calculate the period from the frequency value using Python:\n"
   ]
  },
  {
   "cell_type": "code",
   "execution_count": null,
   "metadata": {
    "id": "7FfR2poWOImk"
   },
   "outputs": [],
   "source": [
    "# Write the code here"
   ]
  },
  {
   "cell_type": "markdown",
   "metadata": {
    "id": "SW5G_Ch0OSC-"
   },
   "source": [
    "2.3. Plot three periods of the signal using the `plot_signals` function and selecting `t_start` and `t_end` arguments accordingly. Try to get the first periods of the audio signal but avoiding the attack section."
   ]
  },
  {
   "cell_type": "code",
   "execution_count": null,
   "metadata": {
    "id": "sMKb9-CMNQLJ"
   },
   "outputs": [],
   "source": [
    "# Write the code here"
   ]
  },
  {
   "cell_type": "markdown",
   "metadata": {
    "id": "jBxOf-CeOtyP"
   },
   "source": [
    "2.4. Measure the period of the signal manually by identifying the begining and ending of a periodic cycle. Note that when you hover the mouse over one of the points in the plot, you can see the time and amplitude values. For instance, you can check the cross by zero."
   ]
  },
  {
   "cell_type": "markdown",
   "metadata": {
    "id": "QzqeQ8EwPZN7"
   },
   "source": [
    "[Double click to enter your answer]"
   ]
  },
  {
   "cell_type": "markdown",
   "metadata": {
    "id": "a1QBbHmtPitr"
   },
   "source": [
    "2.5. Do the measured (2.4) and theoretical (2.2) periods coincide? If not, explain why."
   ]
  },
  {
   "cell_type": "markdown",
   "metadata": {
    "id": "L-XVkTs6Rgov"
   },
   "source": [
    "[Double click to enter your answer]"
   ]
  },
  {
   "cell_type": "markdown",
   "metadata": {
    "id": "RAZy6ampR51t"
   },
   "source": [
    "\n",
    "\n",
    "---\n",
    "\n"
   ]
  },
  {
   "cell_type": "markdown",
   "metadata": {
    "id": "6X5WbfamR8wa"
   },
   "source": [
    "**3. Generating a sinusoid**"
   ]
  },
  {
   "cell_type": "markdown",
   "metadata": {
    "id": "W7rbJNL8SJ5l"
   },
   "source": [
    "3.1. Create a sinusoid of the same duration than the reference signal and same frequency than the fundamental frequency. Plot it along with the audio signal of the reference recording. Plot the same time segment that 2.3. Note that the sampling rate should be the same for both signals. Try to find the values of Amplitude and initial Phase that make the two signal segments plotted to match as close as possible (do not attempt to imitate the whole signal). Matching the phase is a bit tricky.\n",
    "\n"
   ]
  },
  {
   "cell_type": "code",
   "execution_count": null,
   "metadata": {
    "id": "hUhdrkV9VEIM"
   },
   "outputs": [],
   "source": [
    "# Write the code here"
   ]
  },
  {
   "cell_type": "markdown",
   "metadata": {
    "id": "-XZsH78TVZYi"
   },
   "source": [
    "3.2. What are the main differences between the two signals."
   ]
  },
  {
   "cell_type": "markdown",
   "metadata": {
    "id": "MiV8xpIWVp_T"
   },
   "source": [
    "[Double click to enter your answer]\n"
   ]
  },
  {
   "cell_type": "markdown",
   "metadata": {
    "id": "gVWDFf-6Vudv"
   },
   "source": [
    "3.3. Listen to the synthesized signal usign the Audio widget. Sounds natural?"
   ]
  },
  {
   "cell_type": "code",
   "execution_count": null,
   "metadata": {
    "id": "JTu4GpMUWY-j"
   },
   "outputs": [],
   "source": [
    "# Write the code here"
   ]
  },
  {
   "cell_type": "markdown",
   "metadata": {
    "id": "YZQldb_QWdyq"
   },
   "source": [
    "3.4. Save the synthesized signal using the 'save_audio` function:"
   ]
  },
  {
   "cell_type": "code",
   "execution_count": null,
   "metadata": {
    "id": "IIefvQl8WqUc"
   },
   "outputs": [],
   "source": [
    "# Write the code here"
   ]
  }
 ],
 "metadata": {
  "colab": {
   "provenance": []
  },
  "kernelspec": {
   "display_name": ".venv (3.12.1)",
   "language": "python",
   "name": "python3"
  },
  "language_info": {
   "codemirror_mode": {
    "name": "ipython",
    "version": 3
   },
   "file_extension": ".py",
   "mimetype": "text/x-python",
   "name": "python",
   "nbconvert_exporter": "python",
   "pygments_lexer": "ipython3",
   "version": "3.12.1"
  }
 },
 "nbformat": 4,
 "nbformat_minor": 0
}
